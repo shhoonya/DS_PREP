A= "Good Morning"
B= "Students"
C= """Welcome to"""
D= '''Edureka''' 
print(A,B,C,D)