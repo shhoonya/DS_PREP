{
 "cells": [
  {
   "cell_type": "code",
   "execution_count": 1,
   "metadata": {},
   "outputs": [
    {
     "name": "stdout",
     "output_type": "stream",
     "text": [
      "Voila!\n"
     ]
    }
   ],
   "source": [
    "# Learning multiline Commenting\n",
    "# Put triple \" at beginning and end of the comment\n",
    "\n",
    "\"\"\" Example:\n",
    "    This is an example of\n",
    "    Multi-line commenting\n",
    "\n",
    "\"\"\"\n",
    "print(\"Voila!\")"
   ]
  },
  {
   "cell_type": "code",
   "execution_count": 14,
   "metadata": {},
   "outputs": [
    {
     "name": "stdout",
     "output_type": "stream",
     "text": [
      "<class 'str'> : 3\n",
      "<class 'int'> : 3\n",
      "<class 'float'> : 3.0\n"
     ]
    }
   ],
   "source": [
    "\"\"\" Casting - change the data type\n",
    " using casting_parameter()\"\"\"\n",
    "\n",
    "a = \"3\"\n",
    "cast_s = int(a)\n",
    "cast_f = float(a)\n",
    "\n",
    "# Check the data type by including it inside type()\n",
    "print(type(a), \":\",  a)\n",
    "print(type(cast_s), \":\",  cast_s)\n",
    "print(type(cast_f), \":\",  cast_f)"
   ]
  },
  {
   "cell_type": "code",
   "execution_count": 22,
   "metadata": {},
   "outputs": [
    {
     "name": "stdout",
     "output_type": "stream",
     "text": [
      "This is an example of single \"Quote\"\n",
      "This is an example of single 'Quote'\n",
      "This is an \n",
      "'example' of \n",
      "\"mixed\" quote\n"
     ]
    }
   ],
   "source": [
    "# Single or Double Quotes or Mixed\n",
    "\n",
    "# Single Quote is used when we have to specify\n",
    "# a double quote inside it or as standard\n",
    "# we can not input multiple lines inside single quote\n",
    "single_q = 'This is an example of single \"Quote\"'\n",
    "\n",
    "# Double Quote is used when we have to specify\n",
    "# a single quote inside it or as standard\n",
    "# we can not input multiple lines inside double quote\n",
    "double_q = \"This is an example of single 'Quote'\"\n",
    "\n",
    "# This is a bad example to debug\n",
    "# Inserting Triple Quote Comments out the normal line\n",
    "# but assigns the variable value\n",
    "\"\"\"Triple Single/Double Quote is used when we have to specify\n",
    "# mixed quotations inside it or as standard\n",
    "# we can input multiple lines inside it\n",
    "mixed_q = This is an \n",
    "'example' of \n",
    "\"mixed\" quote\"\"\"\n",
    "\n",
    "print(single_q)\n",
    "print(double_q)\n",
    "print(mixed_q)"
   ]
  },
  {
   "cell_type": "code",
   "execution_count": 26,
   "metadata": {},
   "outputs": [
    {
     "name": "stdout",
     "output_type": "stream",
     "text": [
      "apple\n",
      "banana\n"
     ]
    }
   ],
   "source": [
    "# Unpacking a list, tuple etc.\n",
    "fruits = [\"apple\", \"banana\", \"cherry\"]\n",
    "x, y, z = fruits\n",
    "print(x)\n",
    "print(y)\n",
    "print(z)"
   ]
  },
  {
   "cell_type": "code",
   "execution_count": 47,
   "metadata": {},
   "outputs": [
    {
     "name": "stdout",
     "output_type": "stream",
     "text": [
      "1  :  5\n",
      "2  :  1\n",
      "3  :  9\n",
      "4  :  1\n",
      "5  :  1\n",
      "6  :  3\n",
      "7  :  6\n",
      "8  :  3\n",
      "9  :  7\n",
      "10  :  6\n"
     ]
    }
   ],
   "source": [
    "# To generate random number in Python\n",
    "import random\n",
    "\n",
    "for n in range(10):\n",
    "    print(n+1, \" : \", random.randrange(1, 10))\n"
   ]
  },
  {
   "cell_type": "code",
   "execution_count": 79,
   "metadata": {},
   "outputs": [
    {
     "name": "stdout",
     "output_type": "stream",
     "text": [
      " \n",
      " \n",
      " \n",
      "H\n",
      "e\n",
      "l\n",
      "l\n",
      "o\n",
      ",\n",
      " \n",
      "W\n",
      "o\n",
      "r\n",
      "l\n",
      "d\n",
      "!\n",
      " \n",
      " \n",
      " \n",
      "[' ', ' ', ' ', 'H', 'e', 'l', 'l', 'o', ',', ' ', 'W', 'o', 'r', 'l', 'd', '!', ' ', ' ', ' ']\n",
      "   \n",
      "   HELLO, WORLD!   \n",
      "   hello, world!   \n",
      "Hello, World!\n",
      "Namaste, World!\n",
      "Length of the string is: 19\n",
      "True\n",
      "It is there\n"
     ]
    }
   ],
   "source": [
    "# String is a type of List/Array\n",
    "string = \"   Hello, World!   \"\n",
    "emptry_string = []\n",
    "\n",
    "for n in string:\n",
    "    print(n)\n",
    "    emptry_string.append(n)\n",
    "\n",
    "print(emptry_string)\n",
    "# slicing a string\n",
    "print(string[-3:])\n",
    "\n",
    "# to modify to upper or lower case, use .upper() or .lower()\n",
    "upper = string.upper()\n",
    "lower = string.lower()\n",
    "# strip removes whitespaces from start or end of the string\n",
    "without_white_space = string.strip()\n",
    "print(upper)\n",
    "print(lower)\n",
    "print(without_white_space)\n",
    "\n",
    "# to replace use .replace(\"string to replace\", \"string to replace with\")\n",
    "print(string.replace(\"Hello\", \"Namaste\").strip())\n",
    "\n",
    "\n",
    "\n",
    "# to check the length of a string, use function len()\n",
    "print(f\"Length of the string is: {len(string)}\")\n",
    "\n",
    "# to check an array inside string\n",
    "# also called membership operator\n",
    "print(\"Hello\" in string)\n",
    "\n",
    "if \"Hello\" not in string:\n",
    "    print(\"Hello Nikky is not present in the string\")\n",
    "else:\n",
    "    print(\"It is there\")"
   ]
  },
  {
   "cell_type": "code",
   "execution_count": 1,
   "metadata": {},
   "outputs": [
    {
     "name": "stdout",
     "output_type": "stream",
     "text": [
      "This is debug test\n"
     ]
    }
   ],
   "source": [
    "print(\"This is debug test\")"
   ]
  },
  {
   "cell_type": "code",
   "execution_count": 1,
   "metadata": {},
   "outputs": [
    {
     "name": "stdout",
     "output_type": "stream",
     "text": [
      "this is test_2\n"
     ]
    }
   ],
   "source": [
    "print (\"this is test_2\")"
   ]
  }
 ],
 "metadata": {
  "kernelspec": {
   "display_name": "Python 3",
   "language": "python",
   "name": "python3"
  },
  "language_info": {
   "codemirror_mode": {
    "name": "ipython",
    "version": 3
   },
   "file_extension": ".py",
   "mimetype": "text/x-python",
   "name": "python",
   "nbconvert_exporter": "python",
   "pygments_lexer": "ipython3",
   "version": "3.8.8"
  },
  "orig_nbformat": 4,
  "vscode": {
   "interpreter": {
    "hash": "ae4130c9d59802fd7a8b3558ed20b92f48bf56426b879e496b42b7fc1f5ab5db"
   }
  }
 },
 "nbformat": 4,
 "nbformat_minor": 2
}
