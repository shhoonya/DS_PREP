{
 "cells": [
  {
   "cell_type": "code",
   "execution_count": 68,
   "metadata": {},
   "outputs": [
    {
     "name": "stdout",
     "output_type": "stream",
     "text": [
      "['apple', 'cherry', 'pumpkin']\n"
     ]
    },
    {
     "data": {
      "text/plain": [
       "['apple', 'cherry', 'pumpkin']"
      ]
     },
     "execution_count": 68,
     "metadata": {},
     "output_type": "execute_result"
    }
   ],
   "source": [
    "#mylist = \"Nikky\"\n",
    "mylist = [\"apple\", \"banana\", \"cherry\", \"apple\", \"blueberry\", \"cherry\", \"pumpkin\"]\n",
    "\n",
    "'''Duplicate Remove - Order Preserve\n",
    "mylist\n",
    "my_new_list = []\n",
    "take one item from the list and check if it exist in an empty list\n",
    "if it exist then skip'''\n",
    "\n",
    "mylist[1:] = [\"cherry\", \"pumpkin\"]\n",
    "print(mylist)\n",
    "def undup_list(input_list):\n",
    "    my_new_list = []\n",
    "    for item in input_list:\n",
    "        if item not in my_new_list:\n",
    "            my_new_list.append(item)\n",
    "    return my_new_list\n",
    "\n",
    "undup_list(mylist)\n"
   ]
  },
  {
   "cell_type": "code",
   "execution_count": 63,
   "metadata": {},
   "outputs": [
    {
     "name": "stdout",
     "output_type": "stream",
     "text": [
      "WARNING: Enter values from Rock, Paper or Scissors\n"
     ]
    }
   ],
   "source": [
    "# Rock Paper Scissors\n",
    "Player_1 = input().capitalize()\n",
    "Player_2 = input().capitalize()\n",
    "check_list = [\"Rock\", \"Paper\", \"Scissors\"]\n",
    "\n",
    "if Player_1 in check_list:\n",
    "    if Player_2 in check_list:\n",
    "\n",
    "        # Start with Player_1 as base:\n",
    "        # Rule1 Rock Vs Paper > Paper Wins\n",
    "        if Player_1 == \"Rock\" and Player_2 == \"Paper\":\n",
    "            print(\"Player_2 wins!\")\n",
    "        elif Player_2 == \"Rock\" and Player_1 == \"Paper\":\n",
    "            print(\"Player_1 wins!\")\n",
    "            \n",
    "\n",
    "\n",
    "        # Rule2 Paper Vs Scissors > Scissors Wins\n",
    "\n",
    "        elif Player_1 == \"Paper\" and Player_2 == \"Scissors\":\n",
    "            print(\"Player_2 wins!\")\n",
    "        elif Player_2 == \"Paper\" and Player_1 == \"Scissors\":\n",
    "            print(\"Player_1 wins!\")\n",
    "\n",
    "        # Rule3 Rock Vs Scissors > Rock Wins\n",
    "        elif Player_1 == \"Rock\" and Player_2 == \"Scissors\":\n",
    "            print(\"Player_1 wins!\")\n",
    "        elif Player_2 == \"Rock\" and Player_1 == \"Scissors\":\n",
    "            print(\"Player_2 wins!\")\n",
    "\n",
    "\n",
    "        # Rule4 Rock Vs Rock OR Paper Vs Paper OR Scissors VS Scissors > Play again\n",
    "        elif Player_1 == Player_2:\n",
    "            print(\"Game tied, play again!\")\n",
    "\n",
    "\n",
    "\n",
    "        # Rule 5: Don't accept value beyond Rock Paper and Scissors\n",
    "        else:\n",
    "            pass\n",
    "            \n",
    "else:\n",
    "    print(\"WARNING: Enter values from Rock, Paper or Scissors\")\n",
    "\n"
   ]
  },
  {
   "cell_type": "code",
   "execution_count": 69,
   "metadata": {},
   "outputs": [
    {
     "name": "stdout",
     "output_type": "stream",
     "text": [
      "['ford']\n",
      "dict_keys(['brand', 'model', 'year'])\n",
      "dict_keys(['brand', 'model', 'year', 'color', 'make'])\n",
      "['ford', 'Maruti']\n"
     ]
    }
   ],
   "source": [
    "car = {\n",
    "\"brand\": \"Ford\",\n",
    "\"model\": \"Mustang\",\n",
    "\"year\": 1964\n",
    "}\n",
    "\n",
    "carList = [\"ford\"]\n",
    "x = car.keys()\n",
    "\n",
    "print(carList)\n",
    "print(x) #before the change\n",
    "\n",
    "car[\"color\"] = \"white\"\n",
    "car[\"make\"] = 1964\n",
    "\n",
    "carList.append(\"Maruti\")\n",
    "\n",
    "print(x) #after the change\n",
    "print(carList)"
   ]
  }
 ],
 "metadata": {
  "kernelspec": {
   "display_name": "base",
   "language": "python",
   "name": "python3"
  },
  "language_info": {
   "codemirror_mode": {
    "name": "ipython",
    "version": 3
   },
   "file_extension": ".py",
   "mimetype": "text/x-python",
   "name": "python",
   "nbconvert_exporter": "python",
   "pygments_lexer": "ipython3",
   "version": "3.9.13"
  },
  "orig_nbformat": 4,
  "vscode": {
   "interpreter": {
    "hash": "b2f029b477be8590de4b123341a0234ab1557d772cd02104fad6fa55ff3f39c9"
   }
  }
 },
 "nbformat": 4,
 "nbformat_minor": 2
}
