{
 "cells": [
  {
   "cell_type": "code",
   "execution_count": 10,
   "metadata": {},
   "outputs": [
    {
     "name": "stdout",
     "output_type": "stream",
     "text": [
      "Enter Your Income\n",
      " 1000000\n",
      "900000.0\n"
     ]
    }
   ],
   "source": [
    "income = int(input(\"Enter Your Income\\n \"))\n",
    "if income > 1000000:\n",
    "    r=20\n",
    "elif income > 500000:\n",
    "    r = 10\n",
    "else:\n",
    "    r = 0\n",
    "tax= (income*r)/100\n",
    "take_home_Salary = income - tax\n",
    "print(take_home_Salary)"
   ]
  },
  {
   "cell_type": "code",
   "execution_count": null,
   "metadata": {},
   "outputs": [],
   "source": [
    "income = int(input(\"Enter Your Annual Income\\n\"))\n",
    "\n",
    "def income_tax_cal():\n",
    "    if income > 1000000:\n",
    "        tax = 0 + (10/100)*(1000000-500000) + (20/100)*(income-1000000)\n",
    "    elif income > 500000:\n",
    "        tax = 0 + (10/100)*(income-500000)\n",
    "    else:\n",
    "        tax = 0\n",
    "\n",
    "    take_home_salary = income - tax\n",
    "    print(f\"Your Income = {income}\\nAs per slab, Rate of Interest = {r}%\\nSo,\\nIncome tax = {tax}\")\n",
    "    print(f\"Your Income = {income}\\nAs per slab, Rate of Interest = {r}%\\nSo,\\nTake Home Salary = {income - tax}\")\n",
    "    \n",
    "income_tax_cal()\n"
   ]
  },
  {
   "cell_type": "code",
   "execution_count": null,
   "metadata": {},
   "outputs": [],
   "source": []
  }
 ],
 "metadata": {
  "kernelspec": {
   "display_name": "Python 3 (ipykernel)",
   "language": "python",
   "name": "python3"
  },
  "language_info": {
   "codemirror_mode": {
    "name": "ipython",
    "version": 3
   },
   "file_extension": ".py",
   "mimetype": "text/x-python",
   "name": "python",
   "nbconvert_exporter": "python",
   "pygments_lexer": "ipython3",
   "version": "3.9.13"
  },
  "vscode": {
   "interpreter": {
    "hash": "ae4130c9d59802fd7a8b3558ed20b92f48bf56426b879e496b42b7fc1f5ab5db"
   }
  }
 },
 "nbformat": 4,
 "nbformat_minor": 2
}
