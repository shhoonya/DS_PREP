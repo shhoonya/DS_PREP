{
 "cells": [
  {
   "cell_type": "code",
   "execution_count": 2,
   "id": "3106bf5b",
   "metadata": {},
   "outputs": [
    {
     "name": "stdout",
     "output_type": "stream",
     "text": [
      "Principal: 1000\n",
      "Rate of interset: 10\n",
      "Time (in years): 2\n",
      "200.0\n"
     ]
    }
   ],
   "source": [
    "# Creating a SI Calculator\n",
    "P = int(input(\"Principal: \"))\n",
    "R = float(input(\"Rate of interset: \"))\n",
    "T = int(input(\"Time (in years): \"))\n",
    "\n",
    "SI = P*R*T/100\n",
    "print(SI)\n",
    "\n"
   ]
  },
  {
   "cell_type": "code",
   "execution_count": null,
   "id": "a74740d8",
   "metadata": {},
   "outputs": [],
   "source": []
  }
 ],
 "metadata": {
  "kernelspec": {
   "display_name": "Python 3 (ipykernel)",
   "language": "python",
   "name": "python3"
  },
  "language_info": {
   "codemirror_mode": {
    "name": "ipython",
    "version": 3
   },
   "file_extension": ".py",
   "mimetype": "text/x-python",
   "name": "python",
   "nbconvert_exporter": "python",
   "pygments_lexer": "ipython3",
   "version": "3.9.13"
  }
 },
 "nbformat": 4,
 "nbformat_minor": 5
}
