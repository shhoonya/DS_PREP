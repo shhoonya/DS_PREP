{
 "cells": [
  {
   "cell_type": "code",
   "execution_count": 4,
   "metadata": {},
   "outputs": [
    {
     "name": "stdout",
     "output_type": "stream",
     "text": [
      "It's Sneha Singh and I am pursuing \"BCA\"#\n"
     ]
    }
   ],
   "source": [
    "str=\"It\\'s Sneha Singh and I am pursuing \\\"BCA\\\"\"\n",
    "print(str)"
   ]
  },
  {
   "cell_type": "code",
   "execution_count": 1,
   "metadata": {},
   "outputs": [
    {
     "name": "stdout",
     "output_type": "stream",
     "text": [
      "Hello \t world\n",
      "15\n"
     ]
    }
   ],
   "source": [
    "str1=\"Hello \\t worldb\\b\"\n",
    "print(str1)\n",
    "print(len(str1))"
   ]
  }
 ],
 "metadata": {
  "kernelspec": {
   "display_name": "base",
   "language": "python",
   "name": "python3"
  },
  "language_info": {
   "codemirror_mode": {
    "name": "ipython",
    "version": 3
   },
   "file_extension": ".py",
   "mimetype": "text/x-python",
   "name": "python",
   "nbconvert_exporter": "python",
   "pygments_lexer": "ipython3",
   "version": "3.10.8"
  },
  "orig_nbformat": 4,
  "vscode": {
   "interpreter": {
    "hash": "2341422424d225294764a65f8677a68f63f98d987331d0e17b8b52ffd6a19eb7"
   }
  }
 },
 "nbformat": 4,
 "nbformat_minor": 2
}
