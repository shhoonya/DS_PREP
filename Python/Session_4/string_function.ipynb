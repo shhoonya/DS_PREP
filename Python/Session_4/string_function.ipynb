{
 "cells": [
  {
   "cell_type": "code",
   "execution_count": 12,
   "metadata": {},
   "outputs": [
    {
     "name": "stdout",
     "output_type": "stream",
     "text": [
      "2\n",
      "Hello!, i am sneha singh\n",
      "HELLO!, I AM SNEHA SINGH\n",
      "hello!, i am sneha singh\n",
      "             Hello!, I am Sneha Singh             \n",
      "['I', 'am', 'learning', 'Data', 'Science']\n"
     ]
    }
   ],
   "source": [
    "str = \"Hello!, I am Sneha Singh\"\n",
    "str1= \"     I   am learning Data Science\"\n",
    "print(str.count(\"S\"))\n",
    "print(str.capitalize())\n",
    "print(str.upper())\n",
    "print(str.lower())\n",
    "print(str.center(50))\n",
    "print(str1.split())"
   ]
  },
  {
   "cell_type": "code",
   "execution_count": null,
   "metadata": {},
   "outputs": [],
   "source": [
    "list=[\"Sneha\", \"Harshit\"]"
   ]
  }
 ],
 "metadata": {
  "kernelspec": {
   "display_name": "Python 3",
   "language": "python",
   "name": "python3"
  },
  "language_info": {
   "codemirror_mode": {
    "name": "ipython",
    "version": 3
   },
   "file_extension": ".py",
   "mimetype": "text/x-python",
   "name": "python",
   "nbconvert_exporter": "python",
   "pygments_lexer": "ipython3",
   "version": "3.8.8"
  },
  "orig_nbformat": 4,
  "vscode": {
   "interpreter": {
    "hash": "ae4130c9d59802fd7a8b3558ed20b92f48bf56426b879e496b42b7fc1f5ab5db"
   }
  }
 },
 "nbformat": 4,
 "nbformat_minor": 2
}
