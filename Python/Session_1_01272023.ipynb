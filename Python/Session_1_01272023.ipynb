{
 "cells": [
  {
   "cell_type": "code",
   "execution_count": 1,
   "id": "86357808",
   "metadata": {},
   "outputs": [
    {
     "data": {
      "text/plain": [
       "6"
      ]
     },
     "execution_count": 1,
     "metadata": {},
     "output_type": "execute_result"
    }
   ],
   "source": [
    "# Learning how to comment\n",
    "# Adding 2 numbers and printing the output\n",
    "2+4\n",
    "#print(2+4)"
   ]
  },
  {
   "cell_type": "code",
   "execution_count": 2,
   "id": "7ee46a5a",
   "metadata": {},
   "outputs": [
    {
     "name": "stdout",
     "output_type": "stream",
     "text": [
      "4 4\n",
      "8\n",
      "2 4\n",
      "6\n"
     ]
    }
   ],
   "source": [
    "# Learning Variables\n",
    "# Best Practice: start with a small letter, separate it by _, it should be meaningful\n",
    "\n",
    "# Case 1: Single Variable\n",
    "a = 4\n",
    "b = 4\n",
    "adding_a_b = a+b\n",
    "print(a, b)\n",
    "print(adding_a_b)\n",
    "\n",
    "# Case 2: Multiple Variable\n",
    "a, b = 2, 4\n",
    "adding_a_b = a+b\n",
    "print(a, b)\n",
    "print(adding_a_b)"
   ]
  },
  {
   "cell_type": "code",
   "execution_count": 3,
   "id": "5dddc597",
   "metadata": {},
   "outputs": [
    {
     "name": "stdout",
     "output_type": "stream",
     "text": [
      "Hello!\n",
      "14\n",
      "12\n"
     ]
    }
   ],
   "source": [
    "# Defining a function\n",
    "def adding():\n",
    "    global a\n",
    "    a = 8\n",
    "    b = 6\n",
    "    print(a+b)\n",
    "    \n",
    "def chhapo(a):\n",
    "    print(a)\n",
    "\n",
    "chhapo(\"Hello!\")\n",
    "#adding()   # 14\n",
    "a = 2\n",
    "#chhapo(a, b)   # 2 4\n",
    "\n",
    "# Bug detection based on execution of function\n",
    "a, b = 2, 4\n",
    "adding()\n",
    "adding_a_b = a+b\n",
    "#chhapo(a, b)\n",
    "chhapo(adding_a_b)"
   ]
  },
  {
   "cell_type": "code",
   "execution_count": 4,
   "id": "e772c78b",
   "metadata": {},
   "outputs": [
    {
     "name": "stdout",
     "output_type": "stream",
     "text": [
      "['apple', 'banana', 'cherry']\n"
     ]
    }
   ],
   "source": [
    "x = [\"apple\", \"banana\", \"cherry\", \"banana\"]\n",
    "x.pop(3)\n",
    "print(x)"
   ]
  },
  {
   "cell_type": "code",
   "execution_count": 5,
   "id": "accf042c",
   "metadata": {},
   "outputs": [
    {
     "name": "stdout",
     "output_type": "stream",
     "text": [
      "apple\n",
      "banana\n"
     ]
    }
   ],
   "source": [
    "def update_tuple(x, z):\n",
    "    y = list(x)\n",
    "    y.pop(z)\n",
    "    x = tuple(y)\n",
    "    return x\n",
    "\n",
    "m = (\"apple\", \"banana\", \"cherry\", \"banana\")\n",
    "print(m[0])\n",
    "m = update_tuple(m, 0)\n",
    "print(m[0])"
   ]
  },
  {
   "cell_type": "code",
   "execution_count": 6,
   "id": "ced9e2f9",
   "metadata": {},
   "outputs": [
    {
     "name": "stdout",
     "output_type": "stream",
     "text": [
      "It is banana indeed!\n"
     ]
    }
   ],
   "source": [
    "for i in range(len(x)):\n",
    "    if x[i] == \"banana\":\n",
    "        print(\"It is banana indeed!\")"
   ]
  },
  {
   "cell_type": "code",
   "execution_count": 15,
   "id": "4b7c3f85",
   "metadata": {},
   "outputs": [
    {
     "name": "stdout",
     "output_type": "stream",
     "text": [
      "Enter your name: Sunny\n",
      "\n",
      "Hello Sunny 😀\n"
     ]
    }
   ],
   "source": [
    "try: \n",
    "    # Taking input from the user\n",
    "    name = input(\"Enter your name: \")\n",
    "    # Output\n",
    "    print(\"\\nHello\", name, \"\\N{grinning face}\")\n",
    "except EOFError as e: \n",
    "    print(e)"
   ]
  },
  {
   "cell_type": "code",
   "execution_count": null,
   "id": "d29b297e",
   "metadata": {},
   "outputs": [],
   "source": []
  },
  {
   "cell_type": "code",
   "execution_count": null,
   "id": "420fd5cf",
   "metadata": {},
   "outputs": [],
   "source": []
  }
 ],
 "metadata": {
  "kernelspec": {
   "display_name": "Python 3 (ipykernel)",
   "language": "python",
   "name": "python3"
  },
  "language_info": {
   "codemirror_mode": {
    "name": "ipython",
    "version": 3
   },
   "file_extension": ".py",
   "mimetype": "text/x-python",
   "name": "python",
   "nbconvert_exporter": "python",
   "pygments_lexer": "ipython3",
   "version": "3.9.13"
  }
 },
 "nbformat": 4,
 "nbformat_minor": 5
}
